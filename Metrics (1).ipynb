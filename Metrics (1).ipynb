{
  "nbformat": 4,
  "nbformat_minor": 0,
  "metadata": {
    "colab": {
      "provenance": [],
      "gpuType": "T4"
    },
    "kernelspec": {
      "name": "python3",
      "display_name": "Python 3"
    },
    "language_info": {
      "name": "python"
    },
    "accelerator": "GPU"
  },
  "cells": [
    {
      "cell_type": "markdown",
      "source": [
        "# Video Evaluation Metrics\n",
        "\n",
        "When evaluating edited videos based on text prompts, several metrics can be used to assess the quality, consistency, and alignment of the video with the prompt. Below are some key metrics relevant to this use case.\n",
        "\n",
        "## 1. CLIP Similarity Score\n",
        "- **Description**: The CLIP similarity score evaluates the alignment between the video frames and the text prompt by calculating a similarity score. This is useful for checking if the video content matches the intended edit described in the prompt.\n",
        "- **Calculation**: Use OpenAI's CLIP model to compute the similarity score for each frame against the prompt, and average the scores across frames.\n",
        "\n",
        "## 2. Perceptual Quality Metrics (LPIPS, SSIM)\n",
        "- **Description**:\n",
        "  - **LPIPS** (Learned Perceptual Image Patch Similarity) measures perceptual differences between the original and edited frames, capturing differences that align with human perception.\n",
        "  - **SSIM** (Structural Similarity Index Measure) evaluates structural similarity, which is useful for assessing visual consistency.\n",
        "- **Calculation**: Compare each frame of the original and edited video, then average the scores across frames.\n",
        "\n",
        "## 3. Frame Consistency\n",
        "- **Description**: Measures the temporal consistency between consecutive frames, ensuring that the edited video does not exhibit flickering or disjointed transitions.\n",
        "- **Calculation**: Calculate Mean Squared Error (MSE) or SSIM between consecutive frames of the edited video, and average across frames.\n",
        "\n",
        "## 4. Content Preservation Score\n",
        "- **Description**: Assesses if the main content (e.g., the main subject) remains consistent before and after editing, especially when the edit targets background or color changes.\n",
        "- **Calculation**: Use an object detection or segmentation model to detect key objects in both the original and edited videos, and calculate the overlap or preservation ratio.\n",
        "\n",
        "## 5. Color Consistency or Color Fidelity\n",
        "- **Description**: If edits are based on color (e.g., changing the background color), this metric evaluates if the specified color change has been accurately applied across frames.\n",
        "- **Calculation**: Calculate color histograms in relevant regions of each frame, comparing against target colors and assessing consistency across frames.\n",
        "\n",
        "---\n",
        "\n",
        "Each of these metrics provides insight into different aspects of the edited video, helping ensure the edits are aligned with the prompt and of high quality.\n"
      ],
      "metadata": {
        "id": "CsKG9uqTBx0w"
      }
    },
    {
      "cell_type": "markdown",
      "source": [
        "# Vid2VidZero model with mo-di-fussion"
      ],
      "metadata": {
        "id": "skvkApcvUhK_"
      }
    },
    {
      "cell_type": "code",
      "source": [
        "from transformers import CLIPProcessor, CLIPModel\n",
        "from skimage.metrics import structural_similarity as ssim\n",
        "import torch\n",
        "import cv2\n",
        "import numpy as np\n",
        "from PIL import Image\n",
        "import csv\n",
        "import os\n",
        "\n",
        "# Initialize models and transformations\n",
        "clip_model = CLIPModel.from_pretrained(\"openai/clip-vit-base-patch32\")\n",
        "clip_processor = CLIPProcessor.from_pretrained(\"openai/clip-vit-base-patch32\")\n",
        "\n",
        "def calculate_clip_score(video_path, prompt):\n",
        "    video_capture = cv2.VideoCapture(video_path)\n",
        "    frame_scores = []\n",
        "    while True:\n",
        "        success, frame = video_capture.read()\n",
        "        if not success:\n",
        "            break\n",
        "        image = Image.fromarray(cv2.cvtColor(frame, cv2.COLOR_BGR2RGB))\n",
        "        inputs = clip_processor(text=prompt, images=image, return_tensors=\"pt\", padding=True)\n",
        "        outputs = clip_model(**inputs)\n",
        "        similarity = outputs.logits_per_image.item()\n",
        "        frame_scores.append(similarity)\n",
        "    video_capture.release()\n",
        "    return sum(frame_scores) / len(frame_scores) if frame_scores else 0.0\n",
        "\n",
        "def calculate_temporal_consistency(video_path):\n",
        "    video_capture = cv2.VideoCapture(video_path)\n",
        "    _, prev_frame = video_capture.read()\n",
        "    prev_frame = cv2.cvtColor(prev_frame, cv2.COLOR_BGR2GRAY)\n",
        "    diffs = []\n",
        "    while True:\n",
        "        success, frame = video_capture.read()\n",
        "        if not success:\n",
        "            break\n",
        "        curr_frame = cv2.cvtColor(frame, cv2.COLOR_BGR2GRAY)\n",
        "        diff = np.mean(np.abs(prev_frame - curr_frame))\n",
        "        diffs.append(diff)\n",
        "        prev_frame = curr_frame\n",
        "    video_capture.release()\n",
        "    return np.mean(diffs) if diffs else 0.0\n",
        "\n",
        "def calculate_sharpness(video_path):\n",
        "    video_capture = cv2.VideoCapture(video_path)\n",
        "    sharpness_scores = []\n",
        "    while True:\n",
        "        success, frame = video_capture.read()\n",
        "        if not success:\n",
        "            break\n",
        "        gray_frame = cv2.cvtColor(frame, cv2.COLOR_BGR2GRAY)\n",
        "        laplacian = cv2.Laplacian(gray_frame, cv2.CV_64F).var()\n",
        "        sharpness_scores.append(laplacian)\n",
        "    video_capture.release()\n",
        "    return np.mean(sharpness_scores) if sharpness_scores else 0.0\n",
        "\n",
        "def save_metrics_to_csv(metrics, csv_filename=\"video_metrics_new.csv\"):\n",
        "    with open(csv_filename, mode='w', newline='') as file:\n",
        "        writer = csv.writer(file)\n",
        "        writer.writerow([\"Filename\", \"CLIP Score\", \"Temporal Consistency\", \"Sharpness\"])\n",
        "        for metric in metrics:\n",
        "            writer.writerow(metric)\n",
        "\n",
        "# Main function to process videos and save metrics\n",
        "def process_edited_videos(video_folder):\n",
        "    metrics = []\n",
        "    for filename in os.listdir(video_folder):\n",
        "        if filename.endswith(\".mp4\"):\n",
        "            video_path = os.path.join(video_folder, filename)\n",
        "            prompt = os.path.splitext(filename)[0]\n",
        "\n",
        "            clip_score = calculate_clip_score(video_path, prompt)\n",
        "            temporal_consistency_score = calculate_temporal_consistency(video_path)\n",
        "            sharpness_score = calculate_sharpness(video_path)\n",
        "\n",
        "            metrics.append([filename, clip_score, temporal_consistency_score, sharpness_score])\n",
        "\n",
        "    save_metrics_to_csv(metrics)\n",
        "\n",
        "# Example usage\n",
        "video_folder = \"./videos_vid2vidzero\"\n",
        "process_edited_videos(video_folder)\n"
      ],
      "metadata": {
        "colab": {
          "base_uri": "https://localhost:8080/"
        },
        "id": "GhcX1ENyCJU_",
        "outputId": "c6141d6c-59f9-4363-9806-01cd14e8e3bc"
      },
      "execution_count": null,
      "outputs": [
        {
          "output_type": "stream",
          "name": "stderr",
          "text": [
            "/usr/local/lib/python3.10/dist-packages/transformers/tokenization_utils_base.py:1601: FutureWarning: `clean_up_tokenization_spaces` was not set. It will be set to `True` by default. This behavior will be depracted in transformers v4.45, and will be then set to `False` by default. For more details check this issue: https://github.com/huggingface/transformers/issues/31884\n",
            "  warnings.warn(\n"
          ]
        }
      ]
    },
    {
      "cell_type": "code",
      "source": [
        "import pandas as pd\n",
        "df1 = pd.read_csv('video_metrics.csv')"
      ],
      "metadata": {
        "id": "tJY1J3OECv9A"
      },
      "execution_count": null,
      "outputs": []
    },
    {
      "cell_type": "code",
      "source": [
        "df1.head()"
      ],
      "metadata": {
        "colab": {
          "base_uri": "https://localhost:8080/",
          "height": 206
        },
        "id": "9sH7gnItQhWr",
        "outputId": "7bf39598-2a8f-4c8e-ea47-e917b3f945b9"
      },
      "execution_count": null,
      "outputs": [
        {
          "output_type": "execute_result",
          "data": {
            "text/plain": [
              "                                 Filename  CLIP Score  Temporal Consistency  \\\n",
              "0  a jeep car is moving on the desert.mp4   32.465323            133.003654   \n",
              "1        a parrot is eating a cracker.mp4   34.537668            116.441426   \n",
              "2     a tiger is walking on the rocks.mp4   31.094833             96.191651   \n",
              "3     a giraffe is munching on leaves.mp4   28.526785            108.174796   \n",
              "4       a dog is munching on a burger.mp4   30.888812            101.577751   \n",
              "\n",
              "    Sharpness  \n",
              "0  762.262387  \n",
              "1  116.873471  \n",
              "2  673.033477  \n",
              "3  183.066754  \n",
              "4  119.739185  "
            ],
            "text/html": [
              "\n",
              "  <div id=\"df-22f01c75-c9b3-4e6c-9c80-741beb173741\" class=\"colab-df-container\">\n",
              "    <div>\n",
              "<style scoped>\n",
              "    .dataframe tbody tr th:only-of-type {\n",
              "        vertical-align: middle;\n",
              "    }\n",
              "\n",
              "    .dataframe tbody tr th {\n",
              "        vertical-align: top;\n",
              "    }\n",
              "\n",
              "    .dataframe thead th {\n",
              "        text-align: right;\n",
              "    }\n",
              "</style>\n",
              "<table border=\"1\" class=\"dataframe\">\n",
              "  <thead>\n",
              "    <tr style=\"text-align: right;\">\n",
              "      <th></th>\n",
              "      <th>Filename</th>\n",
              "      <th>CLIP Score</th>\n",
              "      <th>Temporal Consistency</th>\n",
              "      <th>Sharpness</th>\n",
              "    </tr>\n",
              "  </thead>\n",
              "  <tbody>\n",
              "    <tr>\n",
              "      <th>0</th>\n",
              "      <td>a jeep car is moving on the desert.mp4</td>\n",
              "      <td>32.465323</td>\n",
              "      <td>133.003654</td>\n",
              "      <td>762.262387</td>\n",
              "    </tr>\n",
              "    <tr>\n",
              "      <th>1</th>\n",
              "      <td>a parrot is eating a cracker.mp4</td>\n",
              "      <td>34.537668</td>\n",
              "      <td>116.441426</td>\n",
              "      <td>116.873471</td>\n",
              "    </tr>\n",
              "    <tr>\n",
              "      <th>2</th>\n",
              "      <td>a tiger is walking on the rocks.mp4</td>\n",
              "      <td>31.094833</td>\n",
              "      <td>96.191651</td>\n",
              "      <td>673.033477</td>\n",
              "    </tr>\n",
              "    <tr>\n",
              "      <th>3</th>\n",
              "      <td>a giraffe is munching on leaves.mp4</td>\n",
              "      <td>28.526785</td>\n",
              "      <td>108.174796</td>\n",
              "      <td>183.066754</td>\n",
              "    </tr>\n",
              "    <tr>\n",
              "      <th>4</th>\n",
              "      <td>a dog is munching on a burger.mp4</td>\n",
              "      <td>30.888812</td>\n",
              "      <td>101.577751</td>\n",
              "      <td>119.739185</td>\n",
              "    </tr>\n",
              "  </tbody>\n",
              "</table>\n",
              "</div>\n",
              "    <div class=\"colab-df-buttons\">\n",
              "\n",
              "  <div class=\"colab-df-container\">\n",
              "    <button class=\"colab-df-convert\" onclick=\"convertToInteractive('df-22f01c75-c9b3-4e6c-9c80-741beb173741')\"\n",
              "            title=\"Convert this dataframe to an interactive table.\"\n",
              "            style=\"display:none;\">\n",
              "\n",
              "  <svg xmlns=\"http://www.w3.org/2000/svg\" height=\"24px\" viewBox=\"0 -960 960 960\">\n",
              "    <path d=\"M120-120v-720h720v720H120Zm60-500h600v-160H180v160Zm220 220h160v-160H400v160Zm0 220h160v-160H400v160ZM180-400h160v-160H180v160Zm440 0h160v-160H620v160ZM180-180h160v-160H180v160Zm440 0h160v-160H620v160Z\"/>\n",
              "  </svg>\n",
              "    </button>\n",
              "\n",
              "  <style>\n",
              "    .colab-df-container {\n",
              "      display:flex;\n",
              "      gap: 12px;\n",
              "    }\n",
              "\n",
              "    .colab-df-convert {\n",
              "      background-color: #E8F0FE;\n",
              "      border: none;\n",
              "      border-radius: 50%;\n",
              "      cursor: pointer;\n",
              "      display: none;\n",
              "      fill: #1967D2;\n",
              "      height: 32px;\n",
              "      padding: 0 0 0 0;\n",
              "      width: 32px;\n",
              "    }\n",
              "\n",
              "    .colab-df-convert:hover {\n",
              "      background-color: #E2EBFA;\n",
              "      box-shadow: 0px 1px 2px rgba(60, 64, 67, 0.3), 0px 1px 3px 1px rgba(60, 64, 67, 0.15);\n",
              "      fill: #174EA6;\n",
              "    }\n",
              "\n",
              "    .colab-df-buttons div {\n",
              "      margin-bottom: 4px;\n",
              "    }\n",
              "\n",
              "    [theme=dark] .colab-df-convert {\n",
              "      background-color: #3B4455;\n",
              "      fill: #D2E3FC;\n",
              "    }\n",
              "\n",
              "    [theme=dark] .colab-df-convert:hover {\n",
              "      background-color: #434B5C;\n",
              "      box-shadow: 0px 1px 3px 1px rgba(0, 0, 0, 0.15);\n",
              "      filter: drop-shadow(0px 1px 2px rgba(0, 0, 0, 0.3));\n",
              "      fill: #FFFFFF;\n",
              "    }\n",
              "  </style>\n",
              "\n",
              "    <script>\n",
              "      const buttonEl =\n",
              "        document.querySelector('#df-22f01c75-c9b3-4e6c-9c80-741beb173741 button.colab-df-convert');\n",
              "      buttonEl.style.display =\n",
              "        google.colab.kernel.accessAllowed ? 'block' : 'none';\n",
              "\n",
              "      async function convertToInteractive(key) {\n",
              "        const element = document.querySelector('#df-22f01c75-c9b3-4e6c-9c80-741beb173741');\n",
              "        const dataTable =\n",
              "          await google.colab.kernel.invokeFunction('convertToInteractive',\n",
              "                                                    [key], {});\n",
              "        if (!dataTable) return;\n",
              "\n",
              "        const docLinkHtml = 'Like what you see? Visit the ' +\n",
              "          '<a target=\"_blank\" href=https://colab.research.google.com/notebooks/data_table.ipynb>data table notebook</a>'\n",
              "          + ' to learn more about interactive tables.';\n",
              "        element.innerHTML = '';\n",
              "        dataTable['output_type'] = 'display_data';\n",
              "        await google.colab.output.renderOutput(dataTable, element);\n",
              "        const docLink = document.createElement('div');\n",
              "        docLink.innerHTML = docLinkHtml;\n",
              "        element.appendChild(docLink);\n",
              "      }\n",
              "    </script>\n",
              "  </div>\n",
              "\n",
              "\n",
              "<div id=\"df-3f4779ca-02d2-4776-9304-dabe5e7f854e\">\n",
              "  <button class=\"colab-df-quickchart\" onclick=\"quickchart('df-3f4779ca-02d2-4776-9304-dabe5e7f854e')\"\n",
              "            title=\"Suggest charts\"\n",
              "            style=\"display:none;\">\n",
              "\n",
              "<svg xmlns=\"http://www.w3.org/2000/svg\" height=\"24px\"viewBox=\"0 0 24 24\"\n",
              "     width=\"24px\">\n",
              "    <g>\n",
              "        <path d=\"M19 3H5c-1.1 0-2 .9-2 2v14c0 1.1.9 2 2 2h14c1.1 0 2-.9 2-2V5c0-1.1-.9-2-2-2zM9 17H7v-7h2v7zm4 0h-2V7h2v10zm4 0h-2v-4h2v4z\"/>\n",
              "    </g>\n",
              "</svg>\n",
              "  </button>\n",
              "\n",
              "<style>\n",
              "  .colab-df-quickchart {\n",
              "      --bg-color: #E8F0FE;\n",
              "      --fill-color: #1967D2;\n",
              "      --hover-bg-color: #E2EBFA;\n",
              "      --hover-fill-color: #174EA6;\n",
              "      --disabled-fill-color: #AAA;\n",
              "      --disabled-bg-color: #DDD;\n",
              "  }\n",
              "\n",
              "  [theme=dark] .colab-df-quickchart {\n",
              "      --bg-color: #3B4455;\n",
              "      --fill-color: #D2E3FC;\n",
              "      --hover-bg-color: #434B5C;\n",
              "      --hover-fill-color: #FFFFFF;\n",
              "      --disabled-bg-color: #3B4455;\n",
              "      --disabled-fill-color: #666;\n",
              "  }\n",
              "\n",
              "  .colab-df-quickchart {\n",
              "    background-color: var(--bg-color);\n",
              "    border: none;\n",
              "    border-radius: 50%;\n",
              "    cursor: pointer;\n",
              "    display: none;\n",
              "    fill: var(--fill-color);\n",
              "    height: 32px;\n",
              "    padding: 0;\n",
              "    width: 32px;\n",
              "  }\n",
              "\n",
              "  .colab-df-quickchart:hover {\n",
              "    background-color: var(--hover-bg-color);\n",
              "    box-shadow: 0 1px 2px rgba(60, 64, 67, 0.3), 0 1px 3px 1px rgba(60, 64, 67, 0.15);\n",
              "    fill: var(--button-hover-fill-color);\n",
              "  }\n",
              "\n",
              "  .colab-df-quickchart-complete:disabled,\n",
              "  .colab-df-quickchart-complete:disabled:hover {\n",
              "    background-color: var(--disabled-bg-color);\n",
              "    fill: var(--disabled-fill-color);\n",
              "    box-shadow: none;\n",
              "  }\n",
              "\n",
              "  .colab-df-spinner {\n",
              "    border: 2px solid var(--fill-color);\n",
              "    border-color: transparent;\n",
              "    border-bottom-color: var(--fill-color);\n",
              "    animation:\n",
              "      spin 1s steps(1) infinite;\n",
              "  }\n",
              "\n",
              "  @keyframes spin {\n",
              "    0% {\n",
              "      border-color: transparent;\n",
              "      border-bottom-color: var(--fill-color);\n",
              "      border-left-color: var(--fill-color);\n",
              "    }\n",
              "    20% {\n",
              "      border-color: transparent;\n",
              "      border-left-color: var(--fill-color);\n",
              "      border-top-color: var(--fill-color);\n",
              "    }\n",
              "    30% {\n",
              "      border-color: transparent;\n",
              "      border-left-color: var(--fill-color);\n",
              "      border-top-color: var(--fill-color);\n",
              "      border-right-color: var(--fill-color);\n",
              "    }\n",
              "    40% {\n",
              "      border-color: transparent;\n",
              "      border-right-color: var(--fill-color);\n",
              "      border-top-color: var(--fill-color);\n",
              "    }\n",
              "    60% {\n",
              "      border-color: transparent;\n",
              "      border-right-color: var(--fill-color);\n",
              "    }\n",
              "    80% {\n",
              "      border-color: transparent;\n",
              "      border-right-color: var(--fill-color);\n",
              "      border-bottom-color: var(--fill-color);\n",
              "    }\n",
              "    90% {\n",
              "      border-color: transparent;\n",
              "      border-bottom-color: var(--fill-color);\n",
              "    }\n",
              "  }\n",
              "</style>\n",
              "\n",
              "  <script>\n",
              "    async function quickchart(key) {\n",
              "      const quickchartButtonEl =\n",
              "        document.querySelector('#' + key + ' button');\n",
              "      quickchartButtonEl.disabled = true;  // To prevent multiple clicks.\n",
              "      quickchartButtonEl.classList.add('colab-df-spinner');\n",
              "      try {\n",
              "        const charts = await google.colab.kernel.invokeFunction(\n",
              "            'suggestCharts', [key], {});\n",
              "      } catch (error) {\n",
              "        console.error('Error during call to suggestCharts:', error);\n",
              "      }\n",
              "      quickchartButtonEl.classList.remove('colab-df-spinner');\n",
              "      quickchartButtonEl.classList.add('colab-df-quickchart-complete');\n",
              "    }\n",
              "    (() => {\n",
              "      let quickchartButtonEl =\n",
              "        document.querySelector('#df-3f4779ca-02d2-4776-9304-dabe5e7f854e button');\n",
              "      quickchartButtonEl.style.display =\n",
              "        google.colab.kernel.accessAllowed ? 'block' : 'none';\n",
              "    })();\n",
              "  </script>\n",
              "</div>\n",
              "\n",
              "    </div>\n",
              "  </div>\n"
            ],
            "application/vnd.google.colaboratory.intrinsic+json": {
              "type": "dataframe",
              "variable_name": "df1",
              "summary": "{\n  \"name\": \"df1\",\n  \"rows\": 33,\n  \"fields\": [\n    {\n      \"column\": \"Filename\",\n      \"properties\": {\n        \"dtype\": \"string\",\n        \"num_unique_values\": 33,\n        \"samples\": [\n          \"a puppy is eating an orange.mp4\",\n          \"an owl is pecking at a grape.mp4\",\n          \"a polar bear is sitting on the ground.mp4\"\n        ],\n        \"semantic_type\": \"\",\n        \"description\": \"\"\n      }\n    },\n    {\n      \"column\": \"CLIP Score\",\n      \"properties\": {\n        \"dtype\": \"number\",\n        \"std\": 2.7433832001289047,\n        \"min\": 25.84406887401234,\n        \"max\": 37.705138206481934,\n        \"num_unique_values\": 33,\n        \"samples\": [\n          36.3057279586792,\n          34.480294704437256,\n          29.250986272638496\n        ],\n        \"semantic_type\": \"\",\n        \"description\": \"\"\n      }\n    },\n    {\n      \"column\": \"Temporal Consistency\",\n      \"properties\": {\n        \"dtype\": \"number\",\n        \"std\": 12.780722859748524,\n        \"min\": 79.5790556202764,\n        \"max\": 133.00365378639916,\n        \"num_unique_values\": 33,\n        \"samples\": [\n          82.99168943322223,\n          118.00032391755477,\n          116.91844787597655\n        ],\n        \"semantic_type\": \"\",\n        \"description\": \"\"\n      }\n    },\n    {\n      \"column\": \"Sharpness\",\n      \"properties\": {\n        \"dtype\": \"number\",\n        \"std\": 382.0748915293459,\n        \"min\": 80.13889015672066,\n        \"max\": 1392.160283576818,\n        \"num_unique_values\": 33,\n        \"samples\": [\n          106.15146675525224,\n          385.088131257693,\n          530.8522495930334\n        ],\n        \"semantic_type\": \"\",\n        \"description\": \"\"\n      }\n    }\n  ]\n}"
            }
          },
          "metadata": {},
          "execution_count": 41
        }
      ]
    },
    {
      "cell_type": "markdown",
      "source": [
        "# Tune a video model with Stable Diffusion 4"
      ],
      "metadata": {
        "id": "rHrvMQRkU26w"
      }
    },
    {
      "cell_type": "code",
      "source": [
        "from transformers import CLIPProcessor, CLIPModel\n",
        "from skimage.metrics import structural_similarity as ssim\n",
        "import torch\n",
        "import cv2\n",
        "import numpy as np\n",
        "from PIL import Image\n",
        "import csv\n",
        "import os\n",
        "\n",
        "# Initialize models and transformations\n",
        "clip_model = CLIPModel.from_pretrained(\"openai/clip-vit-base-patch32\")\n",
        "clip_processor = CLIPProcessor.from_pretrained(\"openai/clip-vit-base-patch32\")\n",
        "\n",
        "def calculate_clip_score(video_path, prompt):\n",
        "    video_capture = cv2.VideoCapture(video_path)\n",
        "    frame_scores = []\n",
        "    while True:\n",
        "        success, frame = video_capture.read()\n",
        "        if not success:\n",
        "            break\n",
        "        image = Image.fromarray(cv2.cvtColor(frame, cv2.COLOR_BGR2RGB))\n",
        "        inputs = clip_processor(text=prompt, images=image, return_tensors=\"pt\", padding=True)\n",
        "        outputs = clip_model(**inputs)\n",
        "        similarity = outputs.logits_per_image.item()\n",
        "        frame_scores.append(similarity)\n",
        "    video_capture.release()\n",
        "    return sum(frame_scores) / len(frame_scores) if frame_scores else 0.0\n",
        "\n",
        "def calculate_temporal_consistency(video_path):\n",
        "    video_capture = cv2.VideoCapture(video_path)\n",
        "    _, prev_frame = video_capture.read()\n",
        "    prev_frame = cv2.cvtColor(prev_frame, cv2.COLOR_BGR2GRAY)\n",
        "    diffs = []\n",
        "    while True:\n",
        "        success, frame = video_capture.read()\n",
        "        if not success:\n",
        "            break\n",
        "        curr_frame = cv2.cvtColor(frame, cv2.COLOR_BGR2GRAY)\n",
        "        diff = np.mean(np.abs(prev_frame - curr_frame))\n",
        "        diffs.append(diff)\n",
        "        prev_frame = curr_frame\n",
        "    video_capture.release()\n",
        "    return np.mean(diffs) if diffs else 0.0\n",
        "\n",
        "def calculate_sharpness(video_path):\n",
        "    video_capture = cv2.VideoCapture(video_path)\n",
        "    sharpness_scores = []\n",
        "    while True:\n",
        "        success, frame = video_capture.read()\n",
        "        if not success:\n",
        "            break\n",
        "        gray_frame = cv2.cvtColor(frame, cv2.COLOR_BGR2GRAY)\n",
        "        laplacian = cv2.Laplacian(gray_frame, cv2.CV_64F).var()\n",
        "        sharpness_scores.append(laplacian)\n",
        "    video_capture.release()\n",
        "    return np.mean(sharpness_scores) if sharpness_scores else 0.0\n",
        "\n",
        "def save_metrics_to_csv(metrics, csv_filename=\"video_metrics.csv\"):\n",
        "    with open(csv_filename, mode='w', newline='') as file:\n",
        "        writer = csv.writer(file)\n",
        "        writer.writerow([\"Filename\", \"CLIP Score\", \"Temporal Consistency\", \"Sharpness\"])\n",
        "        for metric in metrics:\n",
        "            writer.writerow(metric)\n",
        "\n",
        "# Main function to process videos and save metrics\n",
        "def process_edited_videos(video_folder):\n",
        "    metrics = []\n",
        "    for filename in os.listdir(video_folder):\n",
        "        if filename.endswith(\".mp4\"):\n",
        "            video_path = os.path.join(video_folder, filename)\n",
        "            prompt = os.path.splitext(filename)[0]\n",
        "\n",
        "            clip_score = calculate_clip_score(video_path, prompt)\n",
        "            temporal_consistency_score = calculate_temporal_consistency(video_path)\n",
        "            sharpness_score = calculate_sharpness(video_path)\n",
        "\n",
        "            metrics.append([filename, clip_score, temporal_consistency_score, sharpness_score])\n",
        "\n",
        "    save_metrics_to_csv(metrics)\n",
        "\n",
        "# Example usage\n",
        "video_folder = \"./videos\"\n",
        "process_edited_videos(video_folder)\n"
      ],
      "metadata": {
        "colab": {
          "base_uri": "https://localhost:8080/"
        },
        "id": "Tmsd4h2ZC2TV",
        "outputId": "ad60875c-3ae6-420e-8fa5-4be1bb695a8d"
      },
      "execution_count": null,
      "outputs": [
        {
          "output_type": "stream",
          "name": "stderr",
          "text": [
            "/usr/local/lib/python3.10/dist-packages/transformers/tokenization_utils_base.py:1601: FutureWarning: `clean_up_tokenization_spaces` was not set. It will be set to `True` by default. This behavior will be depracted in transformers v4.45, and will be then set to `False` by default. For more details check this issue: https://github.com/huggingface/transformers/issues/31884\n",
            "  warnings.warn(\n"
          ]
        }
      ]
    },
    {
      "cell_type": "code",
      "source": [
        "import pandas as pd\n",
        "df2 = pd.read_csv('video_metrics_new.csv').head(100)"
      ],
      "metadata": {
        "id": "mRArZ5h0Mdxd"
      },
      "execution_count": null,
      "outputs": []
    },
    {
      "cell_type": "code",
      "source": [
        "import pandas as pd\n",
        "\n",
        "# Performing an inner join on the 'file_name' column\n",
        "common_files_df = pd.merge(df1, df2, on='Filename', how='inner', suffixes=('_df1', '_df2'))\n",
        "\n",
        "# Display the result\n",
        "print(common_files_df)\n"
      ],
      "metadata": {
        "colab": {
          "base_uri": "https://localhost:8080/"
        },
        "id": "ssAyqHG1NAZs",
        "outputId": "1e85f80b-06dd-49d7-c2da-e9107ee59b6b"
      },
      "execution_count": null,
      "outputs": [
        {
          "output_type": "stream",
          "name": "stdout",
          "text": [
            "                                             Filename  CLIP Score_df1  \\\n",
            "0              a jeep car is moving on the desert.mp4       32.465323   \n",
            "1                    a cow is walking on the snow.mp4       27.451471   \n",
            "2                    a rabbit is eating an orange.mp4       33.934244   \n",
            "3                      a rabbit is eating a pizza.mp4       34.269524   \n",
            "4                     a car is moving on the snow.mp4       28.118055   \n",
            "5                  a lion is walking on the grass.mp4       30.708345   \n",
            "6                   a dog is walking on the grass.mp4       30.106463   \n",
            "7            a black bear is sitting on the grass.mp4       28.814387   \n",
            "8            a brown bear is sitting on the grass.mp4       25.844069   \n",
            "9   a black swan is swimming on the water, Van Gog...       32.884564   \n",
            "10          a polar bear is sitting on the ground.mp4       29.250986   \n",
            "11                 a tiger is eating a watermelon.mp4       37.705138   \n",
            "12               a jeep car is moving on the road.mp4       28.873989   \n",
            "13                    a puppy is eating an orange.mp4       36.305728   \n",
            "14          a white swan is swimming on the water.mp4       29.794616   \n",
            "\n",
            "    Temporal Consistency_df1  Sharpness_df1  CLIP Score_df2  \\\n",
            "0                 133.003654     762.262387       32.792521   \n",
            "1                  94.013975     446.235574       35.829283   \n",
            "2                  79.579056     168.946880       34.752964   \n",
            "3                  87.427811     207.389488       33.047419   \n",
            "4                 119.859109     176.188962       29.611142   \n",
            "5                 101.352619     325.065724       33.245550   \n",
            "6                  97.464933    1392.160284       28.561742   \n",
            "7                 109.373244    1115.475559       31.548791   \n",
            "8                 110.070447    1142.546351       31.276720   \n",
            "9                 123.383622     268.121373       32.965595   \n",
            "10                116.918448     530.852250       29.125001   \n",
            "11                108.819503     354.311640       36.312308   \n",
            "12                126.422246     274.414791       30.450765   \n",
            "13                 82.991689     106.151467       36.538118   \n",
            "14                117.316699     420.187988       32.289563   \n",
            "\n",
            "    Temporal Consistency_df2  Sharpness_df2  \n",
            "0                 136.933502     481.475528  \n",
            "1                  95.940915     482.614525  \n",
            "2                  88.133155     161.452838  \n",
            "3                  96.688146     111.427102  \n",
            "4                 136.095869     526.497462  \n",
            "5                  96.894529     397.425534  \n",
            "6                 104.581719    1010.697925  \n",
            "7                 112.071491     915.118278  \n",
            "8                 116.439524     794.195985  \n",
            "9                 123.548387     906.221891  \n",
            "10                111.661782     441.804203  \n",
            "11                100.900602     363.655726  \n",
            "12                138.926337     965.125821  \n",
            "13                116.155877     130.679480  \n",
            "14                134.641374     153.547248  \n"
          ]
        }
      ]
    },
    {
      "cell_type": "markdown",
      "source": [
        "# Comparative Analysis of Video Metrics: Vid2VidZero `df1` vs. TuneAVideo `df2`\n",
        "\n",
        "In this notebook, we conduct a comparative analysis of two datasets, `df1` and `df2`, to assess differences in three key metrics:\n",
        "- **CLIP Score**: Measures alignment between the video content and the provided text prompts.\n",
        "- **Temporal Consistency**: Indicates the smoothness of transitions or coherence over time in the video.\n",
        "- **Sharpness**: Represents the clarity or crispness of the video frames.\n",
        "\n",
        "Our goal is to determine if there are noticeable differences in these metrics between `df1` and `df2`.\n",
        "\n",
        "---\n",
        "\n",
        "## 1. Calculating Average Values for Each Metric\n",
        "\n",
        "In this section, we calculate the average values for each metric across both datasets. This allows us to get an overall sense of which dataset performs better on each metric.\n",
        "\n",
        "---\n",
        "\n",
        "## 2. Visualizing Average Metrics with Bar Charts\n",
        "\n",
        "Using bar charts, we compare the average values of each metric for `df1` and `df2`. These charts provide an easy-to-understand visualization of the average differences between the datasets for each metric.\n",
        "\n",
        "---\n",
        "\n",
        "## 3. Visualizing Metric Distributions with Box Plots\n",
        "\n",
        "To further understand the variability in each metric, we use box plots to compare the distributions of `df1` and `df2`. This helps us see not just the averages but also the spread and range of each metric within each dataset.\n",
        "\n",
        "---\n",
        "\n",
        "## 4. Summary of Findings\n",
        "\n",
        "Finally, we summarize our findings in Markdown, highlighting the differences observed in each metric between `df1` and `df2`. This summary will help us conclude whether `df2` exhibits any significant improvements over `df1` in terms of CLIP Score, Temporal Consistency, and Sharpness.\n"
      ],
      "metadata": {
        "id": "HBV4cP4PTJxY"
      }
    },
    {
      "cell_type": "code",
      "source": [
        "# Define metrics\n",
        "metrics = [\"CLIP Score\", \"Temporal Consistency\", \"Sharpness\"]\n",
        "\n",
        "# Calculating means for each metric in df1 and df2\n",
        "df1_means = [\n",
        "    common_files_df[\"CLIP Score_df1\"].mean(),\n",
        "    common_files_df[\"Temporal Consistency_df1\"].mean(),\n",
        "    common_files_df[\"Sharpness_df1\"].mean()\n",
        "]\n",
        "df2_means = [\n",
        "    common_files_df[\"CLIP Score_df2\"].mean(),\n",
        "    common_files_df[\"Temporal Consistency_df2\"].mean(),\n",
        "    common_files_df[\"Sharpness_df2\"].mean()\n",
        "]\n"
      ],
      "metadata": {
        "id": "U4AHkRBSTKDw"
      },
      "execution_count": null,
      "outputs": []
    },
    {
      "cell_type": "code",
      "source": [
        "import matplotlib.pyplot as plt\n",
        "import numpy as np\n",
        "\n",
        "# Creating bar charts for each metric to compare averages\n",
        "for i, metric in enumerate(metrics):\n",
        "    plt.figure(figsize=(10, 6))\n",
        "    bar_width = 0.35\n",
        "    index = np.arange(1)\n",
        "\n",
        "    # Bar plot\n",
        "    plt.bar(index, df1_means[i], bar_width, label=f\"{metric}_df1\")\n",
        "    plt.bar(index + bar_width, df2_means[i], bar_width, label=f\"{metric}_df2\")\n",
        "\n",
        "    # Adding title and labels\n",
        "    plt.title(f\"Average {metric} Comparison\")\n",
        "    plt.xlabel(\"Dataset\")\n",
        "    plt.ylabel(f\"Average {metric}\")\n",
        "    plt.xticks([])\n",
        "    plt.legend()\n",
        "    plt.show()\n"
      ],
      "metadata": {
        "colab": {
          "base_uri": "https://localhost:8080/",
          "height": 1000
        },
        "id": "kA0uQQO_TRA4",
        "outputId": "17218382-cd7a-480b-bf23-7f55ef19b526"
      },
      "execution_count": null,
      "outputs": [
        {
          "output_type": "display_data",
          "data": {
            "text/plain": [
              "<Figure size 1000x600 with 1 Axes>"
            ],
            "image/png": "[encoded data removed]"
          },
          "metadata": {}
        },
        {
          "output_type": "display_data",
          "data": {
            "text/plain": [
              "<Figure size 1000x600 with 1 Axes>"
            ],
            "image/png": "[encoded data removed]"
          },
          "metadata": {}
        },
        {
          "output_type": "display_data",
          "data": {
            "text/plain": [
              "<Figure size 1000x600 with 1 Axes>"
            ],
            "image/png": "[encoded data removed]"
          },
          "metadata": {}
        }
      ]
    },
    {
      "cell_type": "code",
      "source": [
        "# Creating box plots for a visual comparison of distributions in df1 and df2 for each metric\n",
        "for metric in metrics:\n",
        "    plt.figure(figsize=(12, 6))\n",
        "    plt.boxplot(\n",
        "        [common_files_df[f\"{metric}_df1\"], common_files_df[f\"{metric}_df2\"]],\n",
        "        labels=[f\"{metric}_df1\", f\"{metric}_df2\"]\n",
        "    )\n",
        "    plt.title(f\"Distribution of {metric} in df1 and df2\")\n",
        "    plt.ylabel(metric)\n",
        "    plt.show()\n"
      ],
      "metadata": {
        "colab": {
          "base_uri": "https://localhost:8080/",
          "height": 1000
        },
        "id": "0e5c_R3gTSme",
        "outputId": "c8bd78d1-2acd-4edc-d9ef-e52961fc32f6"
      },
      "execution_count": null,
      "outputs": [
        {
          "output_type": "display_data",
          "data": {
            "text/plain": [
              "<Figure size 1200x600 with 1 Axes>"
            ],
            "image/png": "[encoded data removed]"
          },
          "metadata": {}
        },
        {
          "output_type": "display_data",
          "data": {
            "text/plain": [
              "<Figure size 1200x600 with 1 Axes>"
            ],
            "image/png": "[encoded data removed]"
          },
          "metadata": {}
        },
        {
          "output_type": "display_data",
          "data": {
            "text/plain": [
              "<Figure size 1200x600 with 1 Axes>"
            ],
            "image/png": "[encoded data removed]"
          },
          "metadata": {}
        }
      ]
    },
    {
      "cell_type": "code",
      "source": [
        "# Markdown for conclusions\n",
        "markdown = \"\"\"\n",
        "# Comparative Study Between df1 and df2\n",
        "\n",
        "## 1. CLIP Score Analysis\n",
        "- **df1 Average CLIP Score**: {:.2f}\n",
        "- **df2 Average CLIP Score**: {:.2f}\n",
        "- **Conclusion**: `df2` shows a marginally higher average CLIP Score, suggesting slightly better alignment with textual prompts.\n",
        "\n",
        "## 2. Temporal Consistency Analysis\n",
        "- **df1 Average Temporal Consistency**: {:.2f}\n",
        "- **df2 Average Temporal Consistency**: {:.2f}\n",
        "- **Conclusion**: `df2` has a higher average Temporal Consistency, indicating potentially smoother transitions and coherence.\n",
        "\n",
        "## 3. Sharpness Analysis\n",
        "- **df1 Average Sharpness**: {:.2f}\n",
        "- **df2 Average Sharpness**: {:.2f}\n",
        "- **Conclusion**: Sharpness scores are similar, with `df2` having a minor edge, hinting at slightly clearer visuals.\n",
        "\n",
        "Overall, **df2** exhibits slight improvements across metrics, particularly in **CLIP Score** and **Temporal Consistency**.\n",
        "\"\"\".format(df1_means[0], df2_means[0], df1_means[1], df2_means[1], df1_means[2], df2_means[2])\n",
        "\n",
        "print(markdown)\n"
      ],
      "metadata": {
        "colab": {
          "base_uri": "https://localhost:8080/"
        },
        "id": "TsgPlmEOTVMn",
        "outputId": "baf5c936-fa10-4add-f4bd-fb95646628c2"
      },
      "execution_count": null,
      "outputs": [
        {
          "output_type": "stream",
          "name": "stdout",
          "text": [
            "\n",
            "# Comparative Study Between df1 and df2\n",
            "\n",
            "## 1. CLIP Score Analysis\n",
            "- **df1 Average CLIP Score**: 31.10\n",
            "- **df2 Average CLIP Score**: 32.56\n",
            "- **Conclusion**: `df2` shows a marginally higher average CLIP Score, suggesting slightly better alignment with textual prompts.\n",
            "\n",
            "## 2. Temporal Consistency Analysis\n",
            "- **df1 Average Temporal Consistency**: 107.20\n",
            "- **df2 Average Temporal Consistency**: 113.97\n",
            "- **Conclusion**: `df2` has a higher average Temporal Consistency, indicating potentially smoother transitions and coherence.\n",
            "\n",
            "## 3. Sharpness Analysis\n",
            "- **df1 Average Sharpness**: 512.69\n",
            "- **df2 Average Sharpness**: 522.80\n",
            "- **Conclusion**: Sharpness scores are similar, with `df2` having a minor edge, hinting at slightly clearer visuals.\n",
            "\n",
            "Overall, **df2** exhibits slight improvements across metrics, particularly in **CLIP Score** and **Temporal Consistency**.\n",
            "\n"
          ]
        }
      ]
    },
    {
      "cell_type": "markdown",
      "source": [
        "## Percentage Difference in Metrics\n",
        "\n",
        "In this section, we calculate the percentage difference for each metric between `df1` and `df2`. This helps quantify the relative improvement (or decline) in each metric, providing a clear picture of how `df2` compares to `df1` in terms of performance.\n",
        "\n",
        "For example, a positive percentage indicates that `df2` has improved over `df1`, while a negative percentage indicates a decline. This analysis offers insight into which metrics saw the most significant changes.\n"
      ],
      "metadata": {
        "id": "JkMIeckeT4WI"
      }
    },
    {
      "cell_type": "code",
      "source": [
        "# Calculating percentage difference for each metric\n",
        "percentage_differences = {\n",
        "    metric: ((df2_means[i] - df1_means[i]) / df1_means[i]) * 100 for i, metric in enumerate(metrics)\n",
        "}\n",
        "\n",
        "# Displaying percentage differences\n",
        "for metric, diff in percentage_differences.items():\n",
        "    print(f\"Percentage difference in {metric} between df1 and df2: {diff:.2f}%\")\n"
      ],
      "metadata": {
        "colab": {
          "base_uri": "https://localhost:8080/"
        },
        "id": "jnAr2HeAT4mO",
        "outputId": "bbda2f9d-e8f0-4fb9-cadc-a91306598cdc"
      },
      "execution_count": null,
      "outputs": [
        {
          "output_type": "stream",
          "name": "stdout",
          "text": [
            "Percentage difference in CLIP Score between df1 and df2: 4.68%\n",
            "Percentage difference in Temporal Consistency between df1 and df2: 6.32%\n",
            "Percentage difference in Sharpness between df1 and df2: 1.97%\n"
          ]
        }
      ]
    },
    {
      "cell_type": "markdown",
      "source": [
        "## Correlation Analysis Between Metrics\n",
        "\n",
        "Here, we perform a correlation analysis to explore relationships between the metrics within each dataset (`df1` and `df2`). Understanding these correlations can help reveal how metrics interact with each other. For instance, a high correlation between CLIP Score and Temporal Consistency might suggest that improvements in one metric often correspond to improvements in the other.\n",
        "\n",
        "This analysis uses correlation matrices for `df1` and `df2` to show these relationships and whether they remain consistent across datasets.\n"
      ],
      "metadata": {
        "id": "_RVu35ZOUAcx"
      }
    },
    {
      "cell_type": "code",
      "source": [
        "# Correlation analysis for df1 and df2 metrics\n",
        "correlation_df1 = common_files_df[[\"CLIP Score_df1\", \"Temporal Consistency_df1\", \"Sharpness_df1\"]].corr()\n",
        "correlation_df2 = common_files_df[[\"CLIP Score_df2\", \"Temporal Consistency_df2\", \"Sharpness_df2\"]].corr()\n",
        "\n",
        "print(\"Correlation matrix for df1 metrics:\")\n",
        "print(correlation_df1)\n",
        "print(\"\\nCorrelation matrix for df2 metrics:\")\n",
        "print(correlation_df2)\n"
      ],
      "metadata": {
        "colab": {
          "base_uri": "https://localhost:8080/"
        },
        "id": "eivWad0qT66N",
        "outputId": "70c4b917-b30c-4272-afbb-11549dd9e44b"
      },
      "execution_count": null,
      "outputs": [
        {
          "output_type": "stream",
          "name": "stdout",
          "text": [
            "Correlation matrix for df1 metrics:\n",
            "                          CLIP Score_df1  Temporal Consistency_df1  \\\n",
            "CLIP Score_df1                  1.000000                 -0.342221   \n",
            "Temporal Consistency_df1       -0.342221                  1.000000   \n",
            "Sharpness_df1                  -0.462290                  0.158053   \n",
            "\n",
            "                          Sharpness_df1  \n",
            "CLIP Score_df1                -0.462290  \n",
            "Temporal Consistency_df1       0.158053  \n",
            "Sharpness_df1                  1.000000  \n",
            "\n",
            "Correlation matrix for df2 metrics:\n",
            "                          CLIP Score_df2  Temporal Consistency_df2  \\\n",
            "CLIP Score_df2                  1.000000                 -0.409143   \n",
            "Temporal Consistency_df2       -0.409143                  1.000000   \n",
            "Sharpness_df2                  -0.567670                  0.291854   \n",
            "\n",
            "                          Sharpness_df2  \n",
            "CLIP Score_df2                -0.567670  \n",
            "Temporal Consistency_df2       0.291854  \n",
            "Sharpness_df2                  1.000000  \n"
          ]
        }
      ]
    },
    {
      "cell_type": "markdown",
      "source": [
        "## Standard Deviation Analysis\n",
        "\n",
        "We calculate the standard deviation for each metric in `df1` and `df2` to assess variability within each dataset. A lower standard deviation indicates that values are closer to the mean, suggesting more consistent performance. This analysis helps us understand which dataset is more stable across metrics.\n",
        "\n",
        "By comparing the standard deviation for each metric, we can determine if one dataset is more reliable in maintaining consistent metric values.\n"
      ],
      "metadata": {
        "id": "nndnFCKYUEl9"
      }
    },
    {
      "cell_type": "code",
      "source": [
        "# Calculating standard deviation for each metric in df1 and df2\n",
        "df1_stds = [\n",
        "    common_files_df[\"CLIP Score_df1\"].std(),\n",
        "    common_files_df[\"Temporal Consistency_df1\"].std(),\n",
        "    common_files_df[\"Sharpness_df1\"].std()\n",
        "]\n",
        "df2_stds = [\n",
        "    common_files_df[\"CLIP Score_df2\"].std(),\n",
        "    common_files_df[\"Temporal Consistency_df2\"].std(),\n",
        "    common_files_df[\"Sharpness_df2\"].std()\n",
        "]\n",
        "\n",
        "# Displaying standard deviations\n",
        "for i, metric in enumerate(metrics):\n",
        "    print(f\"{metric} Standard Deviation in df1: {df1_stds[i]:.2f}\")\n",
        "    print(f\"{metric} Standard Deviation in df2: {df2_stds[i]:.2f}\")\n"
      ],
      "metadata": {
        "colab": {
          "base_uri": "https://localhost:8080/"
        },
        "id": "tvGJJ4XTUF8B",
        "outputId": "7d628b3d-5404-4a80-8d6a-862d4651f1c3"
      },
      "execution_count": null,
      "outputs": [
        {
          "output_type": "stream",
          "name": "stdout",
          "text": [
            "CLIP Score Standard Deviation in df1: 3.38\n",
            "CLIP Score Standard Deviation in df2: 2.54\n",
            "Temporal Consistency Standard Deviation in df1: 16.28\n",
            "Temporal Consistency Standard Deviation in df2: 16.95\n",
            "Sharpness Standard Deviation in df1: 403.19\n",
            "Sharpness Standard Deviation in df2: 321.73\n"
          ]
        }
      ]
    },
    {
      "cell_type": "markdown",
      "source": [
        "## Median Comparison\n",
        "\n",
        "To further understand the central tendency of each metric, we compare the median values between `df1` and `df2`. The median can be especially insightful when there are outliers in the data, as it provides a more robust measure of the \"typical\" value than the mean.\n",
        "\n",
        "This section shows if one dataset tends to have consistently higher or lower typical values across metrics compared to the other, offering an additional perspective on the data distribution.\n"
      ],
      "metadata": {
        "id": "OiyZa2VRUOTm"
      }
    },
    {
      "cell_type": "code",
      "source": [
        "# Calculating medians for each metric in df1 and df2\n",
        "df1_medians = [\n",
        "    common_files_df[\"CLIP Score_df1\"].median(),\n",
        "    common_files_df[\"Temporal Consistency_df1\"].median(),\n",
        "    common_files_df[\"Sharpness_df1\"].median()\n",
        "]\n",
        "df2_medians = [\n",
        "    common_files_df[\"CLIP Score_df2\"].median(),\n",
        "    common_files_df[\"Temporal Consistency_df2\"].median(),\n",
        "    common_files_df[\"Sharpness_df2\"].median()\n",
        "]\n",
        "\n",
        "# Displaying median values\n",
        "for i, metric in enumerate(metrics):\n",
        "    print(f\"{metric} Median in df1: {df1_medians[i]:.2f}\")\n",
        "    print(f\"{metric} Median in df2: {df2_medians[i]:.2f}\")\n"
      ],
      "metadata": {
        "colab": {
          "base_uri": "https://localhost:8080/"
        },
        "id": "ycn_Q2PIUSeR",
        "outputId": "3d25bdbd-2447-49bc-b464-19b0fb7d022b"
      },
      "execution_count": null,
      "outputs": [
        {
          "output_type": "stream",
          "name": "stdout",
          "text": [
            "CLIP Score Median in df1: 30.11\n",
            "CLIP Score Median in df2: 32.79\n",
            "Temporal Consistency Median in df1: 109.37\n",
            "Temporal Consistency Median in df2: 112.07\n",
            "Sharpness Median in df1: 354.31\n",
            "Sharpness Median in df2: 481.48\n"
          ]
        }
      ]
    },
    {
      "cell_type": "markdown",
      "source": [
        "## Visualization of Percentage Differences\n",
        "\n",
        "This section presents a bar chart of the percentage differences in each metric between `df1` and `df2`. This visualization helps quickly identify which metrics saw the most improvement or decline in `df2` relative to `df1`.\n",
        "\n",
        "A positive bar indicates a percentage increase, showing an improvement in `df2` over `df1`, while a negative bar suggests a decline. This chart provides a clear, visual summary of relative changes across metrics.\n"
      ],
      "metadata": {
        "id": "7bOPYSWPUXOS"
      }
    },
    {
      "cell_type": "code",
      "source": [
        "# Bar chart for percentage differences\n",
        "plt.figure(figsize=(10, 6))\n",
        "plt.bar(percentage_differences.keys(), percentage_differences.values())\n",
        "plt.title(\"Percentage Difference in Metrics between df1 and df2\")\n",
        "plt.ylabel(\"Percentage Difference (%)\")\n",
        "plt.xlabel(\"Metrics\")\n",
        "plt.show()\n"
      ],
      "metadata": {
        "colab": {
          "base_uri": "https://localhost:8080/",
          "height": 564
        },
        "id": "WTA1qUWNUXbv",
        "outputId": "7fbd395a-38b7-42ba-db5d-dcdb9e59150c"
      },
      "execution_count": null,
      "outputs": [
        {
          "output_type": "display_data",
          "data": {
            "text/plain": [
              "<Figure size 1000x600 with 1 Axes>"
            ],
            "image/png": "[encoded data removed]"
          },
          "metadata": {}
        }
      ]
    },
    {
      "cell_type": "code",
      "source": [
        "!pip install opencv-python torch transformers lpips"
      ],
      "metadata": {
        "id": "8xfcF0T9UZkK",
        "colab": {
          "base_uri": "https://localhost:8080/"
        },
        "outputId": "a94e242d-2bb1-4fcf-ef72-dbf5a2504601"
      },
      "execution_count": null,
      "outputs": [
        {
          "output_type": "stream",
          "name": "stdout",
          "text": [
            "Requirement already satisfied: opencv-python in /usr/local/lib/python3.10/dist-packages (4.10.0.84)\n",
            "Requirement already satisfied: torch in /usr/local/lib/python3.10/dist-packages (2.5.0+cu121)\n",
            "Requirement already satisfied: transformers in /usr/local/lib/python3.10/dist-packages (4.44.2)\n",
            "Collecting lpips\n",
            "  Downloading lpips-0.1.4-py3-none-any.whl.metadata (10 kB)\n",
            "Requirement already satisfied: numpy>=1.21.2 in /usr/local/lib/python3.10/dist-packages (from opencv-python) (1.26.4)\n",
            "Requirement already satisfied: filelock in /usr/local/lib/python3.10/dist-packages (from torch) (3.16.1)\n",
            "Requirement already satisfied: typing-extensions>=4.8.0 in /usr/local/lib/python3.10/dist-packages (from torch) (4.12.2)\n",
            "Requirement already satisfied: networkx in /usr/local/lib/python3.10/dist-packages (from torch) (3.4.2)\n",
            "Requirement already satisfied: jinja2 in /usr/local/lib/python3.10/dist-packages (from torch) (3.1.4)\n",
            "Requirement already satisfied: fsspec in /usr/local/lib/python3.10/dist-packages (from torch) (2024.10.0)\n",
            "Requirement already satisfied: sympy==1.13.1 in /usr/local/lib/python3.10/dist-packages (from torch) (1.13.1)\n",
            "Requirement already satisfied: mpmath<1.4,>=1.1.0 in /usr/local/lib/python3.10/dist-packages (from sympy==1.13.1->torch) (1.3.0)\n",
            "Requirement already satisfied: huggingface-hub<1.0,>=0.23.2 in /usr/local/lib/python3.10/dist-packages (from transformers) (0.24.7)\n",
            "Requirement already satisfied: packaging>=20.0 in /usr/local/lib/python3.10/dist-packages (from transformers) (24.1)\n",
            "Requirement already satisfied: pyyaml>=5.1 in /usr/local/lib/python3.10/dist-packages (from transformers) (6.0.2)\n",
            "Requirement already satisfied: regex!=2019.12.17 in /usr/local/lib/python3.10/dist-packages (from transformers) (2024.9.11)\n",
            "Requirement already satisfied: requests in /usr/local/lib/python3.10/dist-packages (from transformers) (2.32.3)\n",
            "Requirement already satisfied: safetensors>=0.4.1 in /usr/local/lib/python3.10/dist-packages (from transformers) (0.4.5)\n",
            "Requirement already satisfied: tokenizers<0.20,>=0.19 in /usr/local/lib/python3.10/dist-packages (from transformers) (0.19.1)\n",
            "Requirement already satisfied: tqdm>=4.27 in /usr/local/lib/python3.10/dist-packages (from transformers) (4.66.6)\n",
            "Requirement already satisfied: torchvision>=0.2.1 in /usr/local/lib/python3.10/dist-packages (from lpips) (0.20.0+cu121)\n",
            "Requirement already satisfied: scipy>=1.0.1 in /usr/local/lib/python3.10/dist-packages (from lpips) (1.13.1)\n",
            "Requirement already satisfied: pillow!=8.3.*,>=5.3.0 in /usr/local/lib/python3.10/dist-packages (from torchvision>=0.2.1->lpips) (10.4.0)\n",
            "Requirement already satisfied: MarkupSafe>=2.0 in /usr/local/lib/python3.10/dist-packages (from jinja2->torch) (3.0.2)\n",
            "Requirement already satisfied: charset-normalizer<4,>=2 in /usr/local/lib/python3.10/dist-packages (from requests->transformers) (3.4.0)\n",
            "Requirement already satisfied: idna<4,>=2.5 in /usr/local/lib/python3.10/dist-packages (from requests->transformers) (3.10)\n",
            "Requirement already satisfied: urllib3<3,>=1.21.1 in /usr/local/lib/python3.10/dist-packages (from requests->transformers) (2.2.3)\n",
            "Requirement already satisfied: certifi>=2017.4.17 in /usr/local/lib/python3.10/dist-packages (from requests->transformers) (2024.8.30)\n",
            "Downloading lpips-0.1.4-py3-none-any.whl (53 kB)\n",
            "\u001b[2K   \u001b[90m━━━━━━━━━━━━━━━━━━━━━━━━━━━━━━━━━━━━━━━━\u001b[0m \u001b[32m53.8/53.8 kB\u001b[0m \u001b[31m3.3 MB/s\u001b[0m eta \u001b[36m0:00:00\u001b[0m\n",
            "\u001b[?25hInstalling collected packages: lpips\n",
            "Successfully installed lpips-0.1.4\n"
          ]
        }
      ]
    },
    {
      "cell_type": "code",
      "source": [
        "import os\n",
        "import torch\n",
        "import cv2\n",
        "import lpips\n",
        "import csv\n",
        "from transformers import CLIPProcessor, CLIPModel\n",
        "\n",
        "# Initialize LPIPS model\n",
        "lpips_model = lpips.LPIPS(net='alex')\n",
        "\n",
        "# Load CLIP model\n",
        "clip_model = CLIPModel.from_pretrained(\"openai/clip-vit-base-patch32\")\n",
        "clip_processor = CLIPProcessor.from_pretrained(\"openai/clip-vit-base-patch32\")\n",
        "\n",
        "# Function to calculate CLIP score for each frame of the video based on text prompt\n",
        "def calculate_clip_score(video_path, text_prompt):\n",
        "    video = cv2.VideoCapture(video_path)\n",
        "    scores = []\n",
        "    while True:\n",
        "        ret, frame = video.read()\n",
        "        if not ret:\n",
        "            break\n",
        "        frame_rgb = cv2.cvtColor(frame, cv2.COLOR_BGR2RGB)\n",
        "        inputs = clip_processor(text=[text_prompt], images=frame_rgb, return_tensors=\"pt\", padding=True)\n",
        "        outputs = clip_model(**inputs)\n",
        "        logits_per_image = outputs.logits_per_image\n",
        "        scores.append(logits_per_image.item())\n",
        "    video.release()\n",
        "    return sum(scores) / len(scores) if scores else 0\n",
        "\n",
        "# Function to calculate temporal consistency using optical flow\n",
        "def calculate_temporal_consistency(video_path):\n",
        "    video = cv2.VideoCapture(video_path)\n",
        "    prev_frame = None\n",
        "    consistency_scores = []\n",
        "    while True:\n",
        "        ret, frame = video.read()\n",
        "        if not ret:\n",
        "            break\n",
        "        frame_gray = cv2.cvtColor(frame, cv2.COLOR_BGR2GRAY)\n",
        "        if prev_frame is not None:\n",
        "            flow = cv2.calcOpticalFlowFarneback(prev_frame, frame_gray, None, 0.5, 3, 15, 3, 5, 1.2, 0)\n",
        "            mag, _ = cv2.cartToPolar(flow[..., 0], flow[..., 1])\n",
        "            consistency_scores.append(mag.mean())\n",
        "        prev_frame = frame_gray\n",
        "    video.release()\n",
        "    return sum(consistency_scores) / len(consistency_scores) if consistency_scores else 0\n",
        "\n",
        "# Function to calculate LPIPS quality score across frames\n",
        "def calculate_lpips_quality(video_path):\n",
        "    video = cv2.VideoCapture(video_path)\n",
        "    prev_frame = None\n",
        "    quality_scores = []\n",
        "    while True:\n",
        "        ret, frame = video.read()\n",
        "        if not ret:\n",
        "            break\n",
        "        frame_tensor = torch.tensor(frame).permute(2, 0, 1).unsqueeze(0).float() / 255.0\n",
        "        if prev_frame is not None:\n",
        "            lpips_score = lpips_model(prev_frame, frame_tensor)\n",
        "            quality_scores.append(lpips_score.item())\n",
        "        prev_frame = frame_tensor\n",
        "    video.release()\n",
        "    return sum(quality_scores) / len(quality_scores) if quality_scores else 0\n",
        "\n",
        "# Function to calculate frame rate consistency\n",
        "def calculate_frame_rate_consistency(video_path):\n",
        "    video = cv2.VideoCapture(video_path)\n",
        "    fps = video.get(cv2.CAP_PROP_FPS)\n",
        "    durations = []\n",
        "    while True:\n",
        "        ret, _ = video.read()\n",
        "        if not ret:\n",
        "            break\n",
        "        durations.append(1 / fps)\n",
        "    video.release()\n",
        "    average_duration = sum(durations) / len(durations)\n",
        "    consistency_score = 1 / (sum((d - average_duration)**2 for d in durations) / len(durations)) if durations else 0\n",
        "    return consistency_score\n",
        "\n",
        "# Main function to calculate all metrics for each video in a folder and save to CSV\n",
        "def evaluate_videos_in_folder(folder_path, output_csv=\"video_metrics.csv\"):\n",
        "    video_metrics = {}\n",
        "\n",
        "    # Iterate over all files in the folder\n",
        "    for video_filename in os.listdir(folder_path):\n",
        "        video_path = os.path.join(folder_path, video_filename)\n",
        "        if video_filename.endswith(\".mp4\"):\n",
        "            # Use filename as the text prompt (remove .mp4 extension)\n",
        "            text_prompt = os.path.splitext(video_filename)[0]\n",
        "\n",
        "            # Calculate metrics\n",
        "            clip_score = calculate_clip_score(video_path, text_prompt)\n",
        "            temporal_consistency = calculate_temporal_consistency(video_path)\n",
        "            lpips_quality_score = calculate_lpips_quality(video_path)\n",
        "            frame_rate_consistency = calculate_frame_rate_consistency(video_path)\n",
        "\n",
        "            # Store metrics in dictionary\n",
        "            video_metrics[video_filename] = [clip_score, temporal_consistency, lpips_quality_score, frame_rate_consistency]\n",
        "\n",
        "    # Write all metrics to a CSV file\n",
        "    with open(output_csv, mode='w', newline='') as file:\n",
        "        writer = csv.writer(file)\n",
        "        writer.writerow([\"Video\", \"CLIP Score\", \"Temporal Consistency\", \"LPIPS Quality\", \"Frame Rate Consistency\"])\n",
        "        for video, metrics in video_metrics.items():\n",
        "            writer.writerow([video] + metrics)\n",
        "\n",
        "# Example usage\n",
        "folder_path = \"/content/tuneavideo\"  # Replace with your folder path\n",
        "evaluate_videos_in_folder(folder_path, output_csv=\"video_metrics.csv\")\n",
        "print(\"Metrics evaluation completed and saved to video_metrics.csv\")\n"
      ],
      "metadata": {
        "colab": {
          "base_uri": "https://localhost:8080/",
          "height": 527
        },
        "id": "TFY3A8x2wJK9",
        "outputId": "1f86c9a4-ad98-41ce-e3dd-0206da0c6f44"
      },
      "execution_count": null,
      "outputs": [
        {
          "output_type": "stream",
          "name": "stdout",
          "text": [
            "Setting up [LPIPS] perceptual loss: trunk [alex], v[0.1], spatial [off]\n"
          ]
        },
        {
          "output_type": "stream",
          "name": "stderr",
          "text": [
            "/usr/local/lib/python3.10/dist-packages/torchvision/models/_utils.py:208: UserWarning: The parameter 'pretrained' is deprecated since 0.13 and may be removed in the future, please use 'weights' instead.\n",
            "  warnings.warn(\n",
            "/usr/local/lib/python3.10/dist-packages/torchvision/models/_utils.py:223: UserWarning: Arguments other than a weight enum or `None` for 'weights' are deprecated since 0.13 and may be removed in the future. The current behavior is equivalent to passing `weights=AlexNet_Weights.IMAGENET1K_V1`. You can also use `weights=AlexNet_Weights.DEFAULT` to get the most up-to-date weights.\n",
            "  warnings.warn(msg)\n"
          ]
        },
        {
          "output_type": "stream",
          "name": "stdout",
          "text": [
            "Loading model from: /usr/local/lib/python3.10/dist-packages/lpips/weights/v0.1/alex.pth\n"
          ]
        },
        {
          "output_type": "stream",
          "name": "stderr",
          "text": [
            "/usr/local/lib/python3.10/dist-packages/lpips/lpips.py:107: FutureWarning: You are using `torch.load` with `weights_only=False` (the current default value), which uses the default pickle module implicitly. It is possible to construct malicious pickle data which will execute arbitrary code during unpickling (See https://github.com/pytorch/pytorch/blob/main/SECURITY.md#untrusted-models for more details). In a future release, the default value for `weights_only` will be flipped to `True`. This limits the functions that could be executed during unpickling. Arbitrary objects will no longer be allowed to be loaded via this mode unless they are explicitly allowlisted by the user via `torch.serialization.add_safe_globals`. We recommend you start setting `weights_only=True` for any use case where you don't have full control of the loaded file. Please open an issue on GitHub for any issues related to this experimental feature.\n",
            "  self.load_state_dict(torch.load(model_path, map_location='cpu'), strict=False)\n"
          ]
        },
        {
          "output_type": "error",
          "ename": "ZeroDivisionError",
          "evalue": "float division by zero",
          "traceback": [
            "\u001b[0;31m---------------------------------------------------------------------------\u001b[0m",
            "\u001b[0;31mZeroDivisionError\u001b[0m                         Traceback (most recent call last)",
            "\u001b[0;32m<ipython-input-3-958bad0f4b39>\u001b[0m in \u001b[0;36m<cell line: 110>\u001b[0;34m()\u001b[0m\n\u001b[1;32m    108\u001b[0m \u001b[0;31m# Example usage\u001b[0m\u001b[0;34m\u001b[0m\u001b[0;34m\u001b[0m\u001b[0m\n\u001b[1;32m    109\u001b[0m \u001b[0mfolder_path\u001b[0m \u001b[0;34m=\u001b[0m \u001b[0;34m\"/content/tuneavideo\"\u001b[0m  \u001b[0;31m# Replace with your folder path\u001b[0m\u001b[0;34m\u001b[0m\u001b[0;34m\u001b[0m\u001b[0m\n\u001b[0;32m--> 110\u001b[0;31m \u001b[0mevaluate_videos_in_folder\u001b[0m\u001b[0;34m(\u001b[0m\u001b[0mfolder_path\u001b[0m\u001b[0;34m,\u001b[0m \u001b[0moutput_csv\u001b[0m\u001b[0;34m=\u001b[0m\u001b[0;34m\"video_metrics.csv\"\u001b[0m\u001b[0;34m)\u001b[0m\u001b[0;34m\u001b[0m\u001b[0;34m\u001b[0m\u001b[0m\n\u001b[0m\u001b[1;32m    111\u001b[0m \u001b[0mprint\u001b[0m\u001b[0;34m(\u001b[0m\u001b[0;34m\"Metrics evaluation completed and saved to video_metrics.csv\"\u001b[0m\u001b[0;34m)\u001b[0m\u001b[0;34m\u001b[0m\u001b[0;34m\u001b[0m\u001b[0m\n",
            "\u001b[0;32m<ipython-input-3-958bad0f4b39>\u001b[0m in \u001b[0;36mevaluate_videos_in_folder\u001b[0;34m(folder_path, output_csv)\u001b[0m\n\u001b[1;32m     94\u001b[0m             \u001b[0mtemporal_consistency\u001b[0m \u001b[0;34m=\u001b[0m \u001b[0mcalculate_temporal_consistency\u001b[0m\u001b[0;34m(\u001b[0m\u001b[0mvideo_path\u001b[0m\u001b[0;34m)\u001b[0m\u001b[0;34m\u001b[0m\u001b[0;34m\u001b[0m\u001b[0m\n\u001b[1;32m     95\u001b[0m             \u001b[0mlpips_quality_score\u001b[0m \u001b[0;34m=\u001b[0m \u001b[0mcalculate_lpips_quality\u001b[0m\u001b[0;34m(\u001b[0m\u001b[0mvideo_path\u001b[0m\u001b[0;34m)\u001b[0m\u001b[0;34m\u001b[0m\u001b[0;34m\u001b[0m\u001b[0m\n\u001b[0;32m---> 96\u001b[0;31m             \u001b[0mframe_rate_consistency\u001b[0m \u001b[0;34m=\u001b[0m \u001b[0mcalculate_frame_rate_consistency\u001b[0m\u001b[0;34m(\u001b[0m\u001b[0mvideo_path\u001b[0m\u001b[0;34m)\u001b[0m\u001b[0;34m\u001b[0m\u001b[0;34m\u001b[0m\u001b[0m\n\u001b[0m\u001b[1;32m     97\u001b[0m \u001b[0;34m\u001b[0m\u001b[0m\n\u001b[1;32m     98\u001b[0m             \u001b[0;31m# Store metrics in dictionary\u001b[0m\u001b[0;34m\u001b[0m\u001b[0;34m\u001b[0m\u001b[0m\n",
            "\u001b[0;32m<ipython-input-3-958bad0f4b39>\u001b[0m in \u001b[0;36mcalculate_frame_rate_consistency\u001b[0;34m(video_path)\u001b[0m\n\u001b[1;32m     76\u001b[0m     \u001b[0mvideo\u001b[0m\u001b[0;34m.\u001b[0m\u001b[0mrelease\u001b[0m\u001b[0;34m(\u001b[0m\u001b[0;34m)\u001b[0m\u001b[0;34m\u001b[0m\u001b[0;34m\u001b[0m\u001b[0m\n\u001b[1;32m     77\u001b[0m     \u001b[0maverage_duration\u001b[0m \u001b[0;34m=\u001b[0m \u001b[0msum\u001b[0m\u001b[0;34m(\u001b[0m\u001b[0mdurations\u001b[0m\u001b[0;34m)\u001b[0m \u001b[0;34m/\u001b[0m \u001b[0mlen\u001b[0m\u001b[0;34m(\u001b[0m\u001b[0mdurations\u001b[0m\u001b[0;34m)\u001b[0m\u001b[0;34m\u001b[0m\u001b[0;34m\u001b[0m\u001b[0m\n\u001b[0;32m---> 78\u001b[0;31m     \u001b[0mconsistency_score\u001b[0m \u001b[0;34m=\u001b[0m \u001b[0;36m1\u001b[0m \u001b[0;34m/\u001b[0m \u001b[0;34m(\u001b[0m\u001b[0msum\u001b[0m\u001b[0;34m(\u001b[0m\u001b[0;34m(\u001b[0m\u001b[0md\u001b[0m \u001b[0;34m-\u001b[0m \u001b[0maverage_duration\u001b[0m\u001b[0;34m)\u001b[0m\u001b[0;34m**\u001b[0m\u001b[0;36m2\u001b[0m \u001b[0;32mfor\u001b[0m \u001b[0md\u001b[0m \u001b[0;32min\u001b[0m \u001b[0mdurations\u001b[0m\u001b[0;34m)\u001b[0m \u001b[0;34m/\u001b[0m \u001b[0mlen\u001b[0m\u001b[0;34m(\u001b[0m\u001b[0mdurations\u001b[0m\u001b[0;34m)\u001b[0m\u001b[0;34m)\u001b[0m \u001b[0;32mif\u001b[0m \u001b[0mdurations\u001b[0m \u001b[0;32melse\u001b[0m \u001b[0;36m0\u001b[0m\u001b[0;34m\u001b[0m\u001b[0;34m\u001b[0m\u001b[0m\n\u001b[0m\u001b[1;32m     79\u001b[0m     \u001b[0;32mreturn\u001b[0m \u001b[0mconsistency_score\u001b[0m\u001b[0;34m\u001b[0m\u001b[0;34m\u001b[0m\u001b[0m\n\u001b[1;32m     80\u001b[0m \u001b[0;34m\u001b[0m\u001b[0m\n",
            "\u001b[0;31mZeroDivisionError\u001b[0m: float division by zero"
          ]
        }
      ]
    },
    {
      "cell_type": "code",
      "source": [],
      "metadata": {
        "id": "kEtCY68NwoEq"
      },
      "execution_count": null,
      "outputs": []
    }
  ]
}